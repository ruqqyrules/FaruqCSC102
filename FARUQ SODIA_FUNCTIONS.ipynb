{
 "cells": [
  {
   "cell_type": "markdown",
   "metadata": {},
   "source": [
    "# 1. Write a Shutting down Program:"
   ]
  },
  {
   "cell_type": "code",
   "execution_count": 3,
   "metadata": {},
   "outputs": [
    {
     "name": "stdout",
     "output_type": "stream",
     "text": [
      "Shut down? ;yes\n",
      "Shutting down\n"
     ]
    }
   ],
   "source": [
    "def shut_down(x):\n",
    "    if \"yes\" == x:\n",
    "        return\"Shutting down\"\n",
    "    elif \"no\" == x:\n",
    "        return\"Shutdown aborted\"\n",
    "    else:\n",
    "        return\"Sorry,such argument not welcome here\"\n",
    "print(shut_down(input('Shut down? ;')))"
   ]
  },
  {
   "cell_type": "markdown",
   "metadata": {},
   "source": [
    "# 2. Create a function showEmployee() in such a way that it should accept a given number of employee name and salary as input, stores the data in a dictionary, and then save it into a csv file, if any of the following condition is met."
   ]
  },
  {
   "cell_type": "code",
   "execution_count": null,
   "metadata": {},
   "outputs": [],
   "source": [
    "  "
   ]
  },
  {
   "cell_type": "markdown",
   "metadata": {},
   "source": [
    "# Exercise 3"
   ]
  },
  {
   "cell_type": "code",
   "execution_count": 6,
   "metadata": {},
   "outputs": [
    {
     "name": "stdout",
     "output_type": "stream",
     "text": [
      "Insert a number: 3\n",
      "27\n",
      "Insert a number: 3\n",
      "27\n"
     ]
    }
   ],
   "source": [
    "def cube(number):\n",
    "    print(number**3)\n",
    "\n",
    "def bythree(number):\n",
    "    if number%3 == 0:\n",
    "        cube(number)\n",
    "    else:\n",
    "        print(\"False\")\n",
    "cube(int(input(\"Insert a number: \")))\n",
    "bythree(int(input(\"Insert a number: \")))"
   ]
  },
  {
   "cell_type": "markdown",
   "metadata": {},
   "source": [
    "# Exercise 4"
   ]
  },
  {
   "cell_type": "code",
   "execution_count": 7,
   "metadata": {},
   "outputs": [
    {
     "name": "stdout",
     "output_type": "stream",
     "text": [
      "The number of lowercase letters is : 0\n",
      "The number of uppercase letters is : 0\n",
      "5\n"
     ]
    }
   ],
   "source": [
    "a = 0\n",
    "b = 0\n",
    "def letter_type(x):\n",
    "    for a in x:\n",
    "        if x.islower():\n",
    "            a=a+1\n",
    "        elif x.isupper():\n",
    "            b=b+1\n",
    "            \n",
    "print(\"The number of lowercase letters is :\", a)\n",
    "print(\"The number of uppercase letters is :\", b)\n",
    "letter_type(input())"
   ]
  },
  {
   "cell_type": "code",
   "execution_count": null,
   "metadata": {},
   "outputs": [],
   "source": []
  }
 ],
 "metadata": {
  "kernelspec": {
   "display_name": "Python 3",
   "language": "python",
   "name": "python3"
  },
  "language_info": {
   "codemirror_mode": {
    "name": "ipython",
    "version": 3
   },
   "file_extension": ".py",
   "mimetype": "text/x-python",
   "name": "python",
   "nbconvert_exporter": "python",
   "pygments_lexer": "ipython3",
   "version": "3.8.3"
  }
 },
 "nbformat": 4,
 "nbformat_minor": 4
}
